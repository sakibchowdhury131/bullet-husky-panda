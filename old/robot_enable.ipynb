{
 "cells": [
  {
   "cell_type": "code",
   "execution_count": 1,
   "id": "2aa4a55a-8a5d-4334-afb2-3d1c23a957ef",
   "metadata": {},
   "outputs": [
    {
     "name": "stderr",
     "output_type": "stream",
     "text": [
      "pybullet build time: Feb  4 2024 12:55:26\n",
      "2025-01-10 22:10:35.857 Python[23719:6496700] +[IMKClient subclass]: chose IMKClient_Modern\n",
      "2025-01-10 22:10:35.857 Python[23719:6496700] +[IMKInputSession subclass]: chose IMKInputSession_Modern\n"
     ]
    }
   ],
   "source": [
    "import pybullet as p\n",
    "import pybullet_data\n",
    "\n",
    "# Connect to PyBullet\n",
    "p.connect(p.GUI)\n",
    "\n",
    "# Add PyBullet's default data path\n",
    "p.setAdditionalSearchPath(pybullet_data.getDataPath())\n",
    "p.setGravity(0,0,-10)\n",
    "planeId = p.loadURDF(\"plane.urdf\")\n",
    "# Load the Husky robot\n",
    "husky = p.loadURDF(\"husky/husky.urdf\", basePosition=[0, 0, 0])\n",
    "\n",
    "# Load the Panda robot arm\n",
    "panda = p.loadURDF(\"franka_panda_mod/panda.urdf\", basePosition=[0.2, 0, 0.30])  # Adjust basePosition if needed\n",
    "\n",
    "bat_id = p.loadURDF(\"Squash.urdf\", basePosition=[0, 0, 0.8], baseOrientation = p.getQuaternionFromEuler([0, 0, 0]))  # Replace with the actual path to the URDF\n"
   ]
  },
  {
   "cell_type": "code",
   "execution_count": 2,
   "id": "3536d0fd-4b40-4dbf-8da5-157e30d12b2b",
   "metadata": {},
   "outputs": [
    {
     "name": "stdout",
     "output_type": "stream",
     "text": [
      "Link 0: base_link\n",
      "Link 1: imu_link\n",
      "Link 2: front_left_wheel_link\n",
      "Link 3: front_right_wheel_link\n",
      "Link 4: rear_left_wheel_link\n",
      "Link 5: rear_right_wheel_link\n",
      "Link 6: top_plate_link\n",
      "Link 7: user_rail_link\n",
      "Link 8: front_bumper_link\n",
      "Link 9: rear_bumper_link\n"
     ]
    }
   ],
   "source": [
    "for i in range(p.getNumJoints(husky)):\n",
    "    print(f\"Link {i}: {p.getJointInfo(husky, i)[12].decode('utf-8')}\")\n"
   ]
  },
  {
   "cell_type": "code",
   "execution_count": 3,
   "id": "911eded0-8154-4e52-9220-062286e6f8fe",
   "metadata": {},
   "outputs": [],
   "source": [
    "# Get the link index of the Husky chassis (replace with actual link index)\n",
    "husky_chassis_link_index = 0  # Replace with appropriate link index\n",
    "\n",
    "# Create the fixed constraint\n",
    "constraint = p.createConstraint(\n",
    "    parentBodyUniqueId=husky,\n",
    "    parentLinkIndex=husky_chassis_link_index,\n",
    "    childBodyUniqueId=panda,\n",
    "    childLinkIndex=-1,  # -1 means the base link of the child\n",
    "    jointType=p.JOINT_FIXED,\n",
    "    jointAxis=[0, 0, 0],\n",
    "    parentFramePosition=[0.3, 0, 0.25],  # Offset on Husky where the Panda arm will be attached\n",
    "    childFramePosition=[0, 0, 0]  # Offset on Panda where it attaches to Husky\n",
    ")\n"
   ]
  },
  {
   "cell_type": "code",
   "execution_count": 4,
   "id": "93cf820d-49dc-42ac-a419-ebe964051a4c",
   "metadata": {},
   "outputs": [
    {
     "ename": "KeyboardInterrupt",
     "evalue": "",
     "output_type": "error",
     "traceback": [
      "\u001b[0;31m---------------------------------------------------------------------------\u001b[0m",
      "\u001b[0;31mKeyboardInterrupt\u001b[0m                         Traceback (most recent call last)",
      "Cell \u001b[0;32mIn[4], line 4\u001b[0m\n\u001b[1;32m      2\u001b[0m \u001b[38;5;28;01mwhile\u001b[39;00m \u001b[38;5;28;01mTrue\u001b[39;00m:\n\u001b[1;32m      3\u001b[0m     p\u001b[38;5;241m.\u001b[39mstepSimulation()\n\u001b[0;32m----> 4\u001b[0m     \u001b[43mtime\u001b[49m\u001b[38;5;241;43m.\u001b[39;49m\u001b[43msleep\u001b[49m\u001b[43m(\u001b[49m\u001b[38;5;241;43m1\u001b[39;49m\u001b[38;5;241;43m/\u001b[39;49m\u001b[38;5;241;43m240.0\u001b[39;49m\u001b[43m)\u001b[49m\n",
      "\u001b[0;31mKeyboardInterrupt\u001b[0m: "
     ]
    }
   ],
   "source": [
    "import time\n",
    "while True:\n",
    "    p.stepSimulation()\n",
    "    time.sleep(1/240.0)"
   ]
  },
  {
   "cell_type": "code",
   "execution_count": 22,
   "id": "e3ae0889-97c3-48c2-9742-ac75cb470582",
   "metadata": {},
   "outputs": [
    {
     "ename": "KeyboardInterrupt",
     "evalue": "",
     "output_type": "error",
     "traceback": [
      "\u001b[0;31m---------------------------------------------------------------------------\u001b[0m",
      "\u001b[0;31mKeyboardInterrupt\u001b[0m                         Traceback (most recent call last)",
      "Cell \u001b[0;32mIn[22], line 19\u001b[0m\n\u001b[1;32m     17\u001b[0m \u001b[38;5;28;01mwhile\u001b[39;00m \u001b[38;5;28;01mTrue\u001b[39;00m:\n\u001b[1;32m     18\u001b[0m     p\u001b[38;5;241m.\u001b[39mstepSimulation()\n\u001b[0;32m---> 19\u001b[0m     \u001b[43mtime\u001b[49m\u001b[38;5;241;43m.\u001b[39;49m\u001b[43msleep\u001b[49m\u001b[43m(\u001b[49m\u001b[38;5;241;43m1\u001b[39;49m\u001b[43m \u001b[49m\u001b[38;5;241;43m/\u001b[39;49m\u001b[43m \u001b[49m\u001b[38;5;241;43m240\u001b[39;49m\u001b[43m)\u001b[49m\n",
      "\u001b[0;31mKeyboardInterrupt\u001b[0m: "
     ]
    }
   ],
   "source": [
    "import time\n",
    "\n",
    "# Set target positions for the joints\n",
    "target_positions = [-0.066, -0.925, -0.033, -2.016, 0.099, 1.18, 1.818]  # Replace with desired values\n",
    "\n",
    "# Apply position control\n",
    "for joint_index, target_position in zip(range(0, 7), target_positions):\n",
    "    p.setJointMotorControl2(\n",
    "        bodyUniqueId=panda,\n",
    "        jointIndex=joint_index,\n",
    "        controlMode=p.POSITION_CONTROL,\n",
    "        targetPosition=target_position,\n",
    "        force=500  # Adjust max torque/force as needed\n",
    "    )\n",
    "\n",
    "# Run the simulation loop\n",
    "while True:\n",
    "    p.stepSimulation()\n",
    "    time.sleep(1 / 240)\n"
   ]
  },
  {
   "cell_type": "code",
   "execution_count": 23,
   "id": "a162fdf9-ed2c-4b31-863c-2a70cb8066b4",
   "metadata": {},
   "outputs": [
    {
     "name": "stdout",
     "output_type": "stream",
     "text": [
      "Joint 0: panda_joint1\n",
      "Joint 1: panda_joint2\n",
      "Joint 2: panda_joint3\n",
      "Joint 3: panda_joint4\n",
      "Joint 4: panda_joint5\n",
      "Joint 5: panda_joint6\n",
      "Joint 6: panda_joint7\n",
      "Joint 7: panda_joint8\n"
     ]
    }
   ],
   "source": [
    "for i in range(p.getNumJoints(panda)):\n",
    "    joint_info = p.getJointInfo(panda, i)\n",
    "    print(f\"Joint {i}: {joint_info[1].decode('utf-8')}\")\n"
   ]
  },
  {
   "cell_type": "code",
   "execution_count": 8,
   "id": "9b73e25e-30a4-41a1-8007-8d39c927e2ad",
   "metadata": {},
   "outputs": [],
   "source": [
    "# Replace with the actual link index of the Panda arm's end effector\n",
    "end_effector_index = 7  # Replace with your actual end effector index\n",
    "\n",
    "# Position and orientation offsets to align the tennis bat with the end effector\n",
    "offset_position = [0, 0, 0.2]  # Adjust based on your setup\n",
    "offset_orientation = p.getQuaternionFromEuler([0, 0, 0])  # Adjust if needed\n",
    "\n",
    "# Create a fixed constraint\n",
    "constraint2 = p.createConstraint(\n",
    "    parentBodyUniqueId=panda,\n",
    "    parentLinkIndex=end_effector_index,\n",
    "    childBodyUniqueId=bat_id,\n",
    "    childLinkIndex=-1,  # Base of the tennis bat\n",
    "    jointType=p.JOINT_FIXED,\n",
    "    jointAxis=[0, 0, 0],\n",
    "    parentFramePosition=offset_position,\n",
    "    parentFrameOrientation=offset_orientation,\n",
    "    childFramePosition=[0, 0, 0],\n",
    "    childFrameOrientation=[0, 0, 0]\n",
    ")\n"
   ]
  },
  {
   "cell_type": "code",
   "execution_count": 9,
   "id": "c6d6819f-f7c7-4af1-88b2-d4fcbd7b6eec",
   "metadata": {},
   "outputs": [],
   "source": [
    "# p.removeConstraint(constraint2)"
   ]
  },
  {
   "cell_type": "code",
   "execution_count": 32,
   "id": "9eea9bd6-663d-4d07-a4bc-dc11a263f5dc",
   "metadata": {},
   "outputs": [],
   "source": [
    "# Define wheel indices (replace with your actual indices)\n",
    "# Replace with actual wheel joint indices\n",
    "\n",
    "# Set wheel velocities for forward motion\n",
    "velocity = -5.0  # Adjust as needed\n",
    "p.setJointMotorControl2(\n",
    "    bodyUniqueId=husky,\n",
    "    jointIndex=2,\n",
    "    controlMode=p.VELOCITY_CONTROL,\n",
    "    targetVelocity=velocity\n",
    ")\n",
    "p.setJointMotorControl2(\n",
    "    bodyUniqueId=husky,\n",
    "    jointIndex=3,\n",
    "    controlMode=p.VELOCITY_CONTROL,\n",
    "    targetVelocity=velocity\n",
    ")\n",
    "p.setJointMotorControl2(\n",
    "    bodyUniqueId=husky,\n",
    "    jointIndex=4,\n",
    "    controlMode=p.VELOCITY_CONTROL,\n",
    "    targetVelocity=velocity\n",
    ")\n",
    "p.setJointMotorControl2(\n",
    "    bodyUniqueId=husky,\n",
    "    jointIndex=5,\n",
    "    controlMode=p.VELOCITY_CONTROL,\n",
    "    targetVelocity=velocity\n",
    ")\n"
   ]
  },
  {
   "cell_type": "code",
   "execution_count": 10,
   "id": "33010d47-eb3d-464f-a763-d281246d55ba",
   "metadata": {},
   "outputs": [],
   "source": [
    "# panda_joint_indices = [0, 1, 2, 3, 4, 5, 6]  # Adjust based on your URDF\n",
    "\n",
    "# joint_sliders = []\n",
    "# for joint_index in panda_joint_indices:\n",
    "#     joint_sliders.append(p.addUserDebugParameter(f\"Joint {joint_index}\", -3.14, 3.14, 0))\n",
    "\n",
    "# while True:\n",
    "#     for slider, joint_index in zip(joint_sliders, panda_joint_indices):\n",
    "#         target_position = p.readUserDebugParameter(slider)\n",
    "#         p.setJointMotorControl2(\n",
    "#             bodyUniqueId=panda,\n",
    "#             jointIndex=joint_index,\n",
    "#             controlMode=p.POSITION_CONTROL,\n",
    "#             targetPosition=target_position\n",
    "#         )\n",
    "#     p.stepSimulation()\n",
    "#     time.sleep(1/240)\n"
   ]
  },
  {
   "cell_type": "code",
   "execution_count": 33,
   "id": "78d1fac8-f7dd-47a8-9c33-a967c5197ebf",
   "metadata": {},
   "outputs": [
    {
     "ename": "KeyboardInterrupt",
     "evalue": "",
     "output_type": "error",
     "traceback": [
      "\u001b[0;31m---------------------------------------------------------------------------\u001b[0m",
      "\u001b[0;31mKeyboardInterrupt\u001b[0m                         Traceback (most recent call last)",
      "Cell \u001b[0;32mIn[33], line 4\u001b[0m\n\u001b[1;32m      2\u001b[0m \u001b[38;5;28;01mwhile\u001b[39;00m \u001b[38;5;28;01mTrue\u001b[39;00m:\n\u001b[1;32m      3\u001b[0m     p\u001b[38;5;241m.\u001b[39mstepSimulation()\n\u001b[0;32m----> 4\u001b[0m     \u001b[43mtime\u001b[49m\u001b[38;5;241;43m.\u001b[39;49m\u001b[43msleep\u001b[49m\u001b[43m(\u001b[49m\u001b[38;5;241;43m1\u001b[39;49m\u001b[38;5;241;43m/\u001b[39;49m\u001b[38;5;241;43m240.0\u001b[39;49m\u001b[43m)\u001b[49m\n",
      "\u001b[0;31mKeyboardInterrupt\u001b[0m: "
     ]
    }
   ],
   "source": [
    "import time\n",
    "while True:\n",
    "    p.stepSimulation()\n",
    "    time.sleep(1/240.0)"
   ]
  }
 ],
 "metadata": {
  "kernelspec": {
   "display_name": "Python 3 (ipykernel)",
   "language": "python",
   "name": "python3"
  },
  "language_info": {
   "codemirror_mode": {
    "name": "ipython",
    "version": 3
   },
   "file_extension": ".py",
   "mimetype": "text/x-python",
   "name": "python",
   "nbconvert_exporter": "python",
   "pygments_lexer": "ipython3",
   "version": "3.9.6"
  }
 },
 "nbformat": 4,
 "nbformat_minor": 5
}
